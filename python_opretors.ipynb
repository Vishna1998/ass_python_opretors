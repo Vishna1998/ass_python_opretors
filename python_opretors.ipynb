{
 "cells": [
  {
   "cell_type": "code",
   "execution_count": 1,
   "id": "51836d10-d6c1-4ae7-b82f-a29944247eb7",
   "metadata": {},
   "outputs": [],
   "source": [
    "#1. Calc$late the s$m, difference, prod$ct, and q$otient of two n$mbers.\n",
    "\n",
    "a=25\n",
    "b = 35\n",
    "\n"
   ]
  },
  {
   "cell_type": "code",
   "execution_count": 8,
   "id": "01a691e1-1d81-4e81-9b56-04b44bfee959",
   "metadata": {},
   "outputs": [
    {
     "data": {
      "text/plain": [
       "60"
      ]
     },
     "execution_count": 8,
     "metadata": {},
     "output_type": "execute_result"
    }
   ],
   "source": [
    "a+b\n",
    "\n"
   ]
  },
  {
   "cell_type": "code",
   "execution_count": 7,
   "id": "63947f22-f8a4-4c20-9d07-705f41010628",
   "metadata": {},
   "outputs": [
    {
     "data": {
      "text/plain": [
       "-10"
      ]
     },
     "execution_count": 7,
     "metadata": {},
     "output_type": "execute_result"
    }
   ],
   "source": [
    "a-b"
   ]
  },
  {
   "cell_type": "code",
   "execution_count": 9,
   "id": "19033149-56ac-4690-81b8-509fac1a0abd",
   "metadata": {},
   "outputs": [
    {
     "data": {
      "text/plain": [
       "0.7142857142857143"
      ]
     },
     "execution_count": 9,
     "metadata": {},
     "output_type": "execute_result"
    }
   ],
   "source": [
    "a/b"
   ]
  },
  {
   "cell_type": "code",
   "execution_count": 10,
   "id": "ca58e0c6-2380-4366-8b1f-0286c92423be",
   "metadata": {},
   "outputs": [
    {
     "data": {
      "text/plain": [
       "875"
      ]
     },
     "execution_count": 10,
     "metadata": {},
     "output_type": "execute_result"
    }
   ],
   "source": [
    "a*b"
   ]
  },
  {
   "cell_type": "code",
   "execution_count": 11,
   "id": "b74dcada-38b1-4978-b09c-d88c51b27f28",
   "metadata": {},
   "outputs": [
    {
     "data": {
      "text/plain": [
       "25"
      ]
     },
     "execution_count": 11,
     "metadata": {},
     "output_type": "execute_result"
    }
   ],
   "source": [
    "a%b"
   ]
  },
  {
   "cell_type": "code",
   "execution_count": 12,
   "id": "8d80597b-55cc-449e-a15b-64ef759d629f",
   "metadata": {},
   "outputs": [
    {
     "name": "stdout",
     "output_type": "stream",
     "text": [
      "5\n"
     ]
    }
   ],
   "source": [
    "# 2.Perform @ario$s assignment operations on a variable.\n",
    "\n",
    "a=5\n",
    "print(a)"
   ]
  },
  {
   "cell_type": "code",
   "execution_count": 14,
   "id": "dce09085-b859-45a2-9698-d993b8bdfa45",
   "metadata": {},
   "outputs": [
    {
     "name": "stdout",
     "output_type": "stream",
     "text": [
      "10\n"
     ]
    }
   ],
   "source": [
    "b=5\n",
    "b+=5\n",
    "print(b)"
   ]
  },
  {
   "cell_type": "code",
   "execution_count": 17,
   "id": "a116e7c3-33ef-4964-b7fc-35fab9c78e25",
   "metadata": {},
   "outputs": [
    {
     "name": "stdout",
     "output_type": "stream",
     "text": [
      "29\n"
     ]
    }
   ],
   "source": [
    "c=65\n",
    "c-=36\n",
    "print(c)"
   ]
  },
  {
   "cell_type": "code",
   "execution_count": 18,
   "id": "b0e607e9-ee1c-4941-aaf7-7c7f6641dc25",
   "metadata": {},
   "outputs": [
    {
     "name": "stdout",
     "output_type": "stream",
     "text": [
      "24\n"
     ]
    }
   ],
   "source": [
    "d=2\n",
    "d*=12\n",
    "print(d)"
   ]
  },
  {
   "cell_type": "code",
   "execution_count": 22,
   "id": "60ebb484-e555-4252-8a06-37a90e5af534",
   "metadata": {},
   "outputs": [
    {
     "name": "stdin",
     "output_type": "stream",
     "text": [
      "enter the value of a 565\n",
      "enter the value of b 5\n"
     ]
    },
    {
     "name": "stdout",
     "output_type": "stream",
     "text": [
      "a is big\n"
     ]
    }
   ],
   "source": [
    "# 3.Compare two n$mbers and print the res$lts.\n",
    "\n",
    "a= int(input(\"enter the value of a\"))\n",
    "b= int(input(\"enter the value of b\"))\n",
    "\n",
    "if a>b:\n",
    "    print(\"a is big\")\n",
    "elif a<b:\n",
    "    print(\"b is big\")\n",
    "    "
   ]
  },
  {
   "cell_type": "code",
   "execution_count": 31,
   "id": "36e61caf-2d6a-4b5c-83ee-ca51f3f1916f",
   "metadata": {},
   "outputs": [
    {
     "name": "stdin",
     "output_type": "stream",
     "text": [
      "enter the value of a 2\n"
     ]
    },
    {
     "data": {
      "text/plain": [
       "False"
      ]
     },
     "execution_count": 31,
     "metadata": {},
     "output_type": "execute_result"
    }
   ],
   "source": [
    "# 4. Check conditions $sing logical operators.\n",
    "\n",
    "a= int(input(\"enter the value of a\"))\n",
    "\n",
    "\n",
    "a>5 and a<6\n"
   ]
  },
  {
   "cell_type": "code",
   "execution_count": 32,
   "id": "3ab764b3-0108-4312-b829-0f540cf2f101",
   "metadata": {},
   "outputs": [
    {
     "data": {
      "text/plain": [
       "True"
      ]
     },
     "execution_count": 32,
     "metadata": {},
     "output_type": "execute_result"
    }
   ],
   "source": [
    "a>5 or a<6"
   ]
  },
  {
   "cell_type": "code",
   "execution_count": 37,
   "id": "92c02b8a-e152-4d93-a68b-eaa6cba3f51b",
   "metadata": {},
   "outputs": [
    {
     "name": "stdout",
     "output_type": "stream",
     "text": [
      "False\n"
     ]
    }
   ],
   "source": [
    "#5. Check the identity of variables.\n",
    "\n",
    "x=[\"apple\",\"orange\"]\n",
    "y=[\"apple\",\"orange\"]\n",
    "z=x\n",
    "\n",
    "print(x in z)\n"
   ]
  },
  {
   "cell_type": "code",
   "execution_count": 38,
   "id": "8330effe-64ea-427f-a15c-3eb9b3719d95",
   "metadata": {},
   "outputs": [
    {
     "name": "stdout",
     "output_type": "stream",
     "text": [
      "True\n"
     ]
    }
   ],
   "source": [
    "print(x is z)"
   ]
  },
  {
   "cell_type": "code",
   "execution_count": 41,
   "id": "b6e0c078-bd50-46d8-b8fd-15894f1d49ee",
   "metadata": {},
   "outputs": [
    {
     "name": "stdout",
     "output_type": "stream",
     "text": [
      "a & b = 4\n",
      "a | b = 5\n",
      "~a = -6\n",
      "a ^ b = 1\n"
     ]
    }
   ],
   "source": [
    "#6. Perform bitwise operations on any two integers.\n",
    "# Python program to show\n",
    "# bitwise operators\n",
    "\n",
    "a = 5\n",
    "b = 4\n",
    "\n",
    "print(\"a & b =\", a & b)\n",
    "print(\"a | b =\", a | b)\n",
    "print(\"~a =\", ~a)\n",
    "print(\"a ^ b =\", a ^ b)\n"
   ]
  },
  {
   "cell_type": "code",
   "execution_count": 50,
   "id": "f6e45063-0ecd-4ca9-816d-ac1c9092eb00",
   "metadata": {},
   "outputs": [
    {
     "name": "stdout",
     "output_type": "stream",
     "text": [
      "Original number: 7\n",
      "Negated number: -7\n"
     ]
    }
   ],
   "source": [
    "#7.  Use unary operators to change the sign of a number.\n",
    "\n",
    "number = 7\n",
    "negated_number = -number\n",
    "\n",
    "print(f\"Original number: {number}\")\n",
    "print(f\"Negated number: {negated_number}\")\n"
   ]
  },
  {
   "cell_type": "code",
   "execution_count": null,
   "id": "1297cda8-6c11-4138-85f2-61855d89c1ac",
   "metadata": {},
   "outputs": [],
   "source": [
    "# 8 .Use the ternary operator to assign @al$es based on conditions."
   ]
  },
  {
   "cell_type": "code",
   "execution_count": 52,
   "id": "eb91d3c9-af00-48bc-8298-17167d5e74d3",
   "metadata": {},
   "outputs": [
    {
     "name": "stdin",
     "output_type": "stream",
     "text": [
      "enter the age 25\n"
     ]
    },
    {
     "name": "stdout",
     "output_type": "stream",
     "text": [
      "The person is: Adult\n"
     ]
    }
   ],
   "source": [
    "age = int(input(\"enter the age\"))\n",
    "\n",
    "result = \"Adult\" if age >= 18 else \"Minor\"\n",
    "\n",
    "print(f\"The person is: {result}\")"
   ]
  },
  {
   "cell_type": "code",
   "execution_count": null,
   "id": "6f573d11-6557-40e3-905e-9de9ee4b3efa",
   "metadata": {},
   "outputs": [],
   "source": []
  }
 ],
 "metadata": {
  "kernelspec": {
   "display_name": "Python 3 (ipykernel)",
   "language": "python",
   "name": "python3"
  },
  "language_info": {
   "codemirror_mode": {
    "name": "ipython",
    "version": 3
   },
   "file_extension": ".py",
   "mimetype": "text/x-python",
   "name": "python",
   "nbconvert_exporter": "python",
   "pygments_lexer": "ipython3",
   "version": "3.11.5"
  }
 },
 "nbformat": 4,
 "nbformat_minor": 5
}
